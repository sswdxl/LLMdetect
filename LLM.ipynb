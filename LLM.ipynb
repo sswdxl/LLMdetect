{
 "cells": [
  {
   "cell_type": "code",
   "execution_count": 1,
   "metadata": {},
   "outputs": [],
   "source": [
    "import pandas as pd\n",
    "\n",
    "# 读取 train_essays.csv 和 train_prompts.csv 文件\n",
    "essays_df = pd.read_csv('llm-detect-ai-generated-text/train_essays.csv')\n",
    "prompts_df = pd.read_csv('llm-detect-ai-generated-text/train_prompts.csv')\n",
    "\n",
    "# 使用 prompt_id 字段将两个数据集进行连接\n",
    "merged_df = essays_df.merge(prompts_df, on='prompt_id', how='left')\n",
    "merged_df['text'] = merged_df['prompt_name'] + '\\n\\n' + merged_df['instructions'] + '\\n\\n' + merged_df['text']\n",
    "merged_df.drop(merged_df.columns[[4, 5, 6]],axis=1, inplace=True)\n",
    "\n",
    "merged_df.to_csv('llm-detect-ai-generated-text/train_merged.csv', index=False)"
   ]
  },
  {
   "cell_type": "markdown",
   "metadata": {},
   "source": [
    "导入数据集`train_merged.csv`并对每条数据的`merge_text`项进行编码，获得每条数据的向量。"
   ]
  },
  {
   "cell_type": "code",
   "execution_count": 2,
   "metadata": {},
   "outputs": [
    {
     "name": "stderr",
     "output_type": "stream",
     "text": [
      "Special tokens have been added in the vocabulary, make sure the associated word embeddings are fine-tuned or trained.\n"
     ]
    }
   ],
   "source": [
    "import pandas as pd\n",
    "\n",
    "# Load model directly\n",
    "from transformers import AutoTokenizer, AutoModelForMaskedLM\n",
    "\n",
    "import numpy as np\n",
    "import pickle\n",
    "from pathlib import Path\n",
    "\n",
    "\n",
    "tokenizer = AutoTokenizer.from_pretrained(\"xlm-roberta-base\")\n",
    "model = AutoModelForMaskedLM.from_pretrained(\"xlm-roberta-base\")"
   ]
  },
  {
   "cell_type": "markdown",
   "metadata": {},
   "source": [
    "划分训练集、测试集"
   ]
  },
  {
   "cell_type": "code",
   "execution_count": 3,
   "metadata": {},
   "outputs": [],
   "source": [
    "# 读取训练集的CSV\n",
    "df = pd.read_csv('./train_merged.csv')"
   ]
  },
  {
   "cell_type": "code",
   "execution_count": 4,
   "metadata": {},
   "outputs": [
    {
     "name": "stdout",
     "output_type": "stream",
     "text": [
      "<class 'pandas.core.frame.DataFrame'>\n"
     ]
    }
   ],
   "source": [
    "print(type(df))"
   ]
  },
  {
   "cell_type": "code",
   "execution_count": 5,
   "metadata": {},
   "outputs": [
    {
     "data": {
      "text/html": [
       "<div>\n",
       "<style scoped>\n",
       "    .dataframe tbody tr th:only-of-type {\n",
       "        vertical-align: middle;\n",
       "    }\n",
       "\n",
       "    .dataframe tbody tr th {\n",
       "        vertical-align: top;\n",
       "    }\n",
       "\n",
       "    .dataframe thead th {\n",
       "        text-align: right;\n",
       "    }\n",
       "</style>\n",
       "<table border=\"1\" class=\"dataframe\">\n",
       "  <thead>\n",
       "    <tr style=\"text-align: right;\">\n",
       "      <th></th>\n",
       "      <th>id</th>\n",
       "      <th>prompt_id</th>\n",
       "      <th>text</th>\n",
       "      <th>generated</th>\n",
       "    </tr>\n",
       "  </thead>\n",
       "  <tbody>\n",
       "    <tr>\n",
       "      <th>0</th>\n",
       "      <td>0059830c</td>\n",
       "      <td>0</td>\n",
       "      <td>Car-free cities\\n\\nWrite an explanatory essay ...</td>\n",
       "      <td>0</td>\n",
       "    </tr>\n",
       "    <tr>\n",
       "      <th>1</th>\n",
       "      <td>005db917</td>\n",
       "      <td>0</td>\n",
       "      <td>Car-free cities\\n\\nWrite an explanatory essay ...</td>\n",
       "      <td>0</td>\n",
       "    </tr>\n",
       "    <tr>\n",
       "      <th>2</th>\n",
       "      <td>008f63e3</td>\n",
       "      <td>0</td>\n",
       "      <td>Car-free cities\\n\\nWrite an explanatory essay ...</td>\n",
       "      <td>0</td>\n",
       "    </tr>\n",
       "  </tbody>\n",
       "</table>\n",
       "</div>"
      ],
      "text/plain": [
       "         id  prompt_id                                               text  \\\n",
       "0  0059830c          0  Car-free cities\\n\\nWrite an explanatory essay ...   \n",
       "1  005db917          0  Car-free cities\\n\\nWrite an explanatory essay ...   \n",
       "2  008f63e3          0  Car-free cities\\n\\nWrite an explanatory essay ...   \n",
       "\n",
       "   generated  \n",
       "0          0  \n",
       "1          0  \n",
       "2          0  "
      ]
     },
     "execution_count": 5,
     "metadata": {},
     "output_type": "execute_result"
    }
   ],
   "source": [
    "df.head(3)"
   ]
  },
  {
   "cell_type": "code",
   "execution_count": 6,
   "metadata": {},
   "outputs": [
    {
     "name": "stdout",
     "output_type": "stream",
     "text": [
      "Numbers of essays: 1378\n"
     ]
    }
   ],
   "source": [
    "print(f\"Numbers of essays: {df.id.unique().shape[0]}\")"
   ]
  },
  {
   "cell_type": "code",
   "execution_count": 7,
   "metadata": {},
   "outputs": [],
   "source": [
    "txtdata = []\n",
    "classes = []\n",
    "for row in df.itertuples():\n",
    "    txtdata.append(row[3])\n",
    "    classes.append(row[4])"
   ]
  },
  {
   "cell_type": "code",
   "execution_count": 8,
   "metadata": {},
   "outputs": [],
   "source": [
    "from sklearn import *"
   ]
  },
  {
   "cell_type": "code",
   "execution_count": 9,
   "metadata": {},
   "outputs": [],
   "source": [
    "# Split the data set using the train_test_split method\n",
    "train_data, test_data, train_labels, test_labels = model_selection.train_test_split(txtdata, classes, test_size=0.3, random_state=42)\n"
   ]
  },
  {
   "cell_type": "code",
   "execution_count": 10,
   "metadata": {},
   "outputs": [
    {
     "name": "stdout",
     "output_type": "stream",
     "text": [
      "<class 'list'>\n",
      "964\n"
     ]
    }
   ],
   "source": [
    "print(type(train_data))\n",
    "print(len(train_data))"
   ]
  },
  {
   "cell_type": "markdown",
   "metadata": {},
   "source": [
    "Embedding"
   ]
  },
  {
   "cell_type": "code",
   "execution_count": 11,
   "metadata": {},
   "outputs": [
    {
     "data": {
      "application/vnd.jupyter.widget-view+json": {
       "model_id": "be27a5bccbd04c16a9b7f7af4e89d3f0",
       "version_major": 2,
       "version_minor": 0
      },
      "text/plain": [
       "Batches:   0%|          | 0/31 [00:00<?, ?it/s]"
      ]
     },
     "metadata": {},
     "output_type": "display_data"
    }
   ],
   "source": [
    "from sentence_transformers import SentenceTransformer\n",
    "\n",
    "model = SentenceTransformer(\"symanto/sn-xlm-roberta-base-snli-mnli-anli-xnli\")\n",
    "embeddings = model.encode(train_data, show_progress_bar=True)"
   ]
  },
  {
   "cell_type": "code",
   "execution_count": 12,
   "metadata": {},
   "outputs": [
    {
     "name": "stdout",
     "output_type": "stream",
     "text": [
      "Shape of the vectorised abstract: (768,)\n",
      "Shape of the embeddings: (964, 768)\n"
     ]
    }
   ],
   "source": [
    "print(f'Shape of the vectorised abstract: {embeddings[0].shape}')\n",
    "print(f'Shape of the embeddings: {embeddings.shape}')"
   ]
  },
  {
   "cell_type": "markdown",
   "metadata": {},
   "source": [
    "训练一个分类基线模型-LR"
   ]
  },
  {
   "cell_type": "code",
   "execution_count": 13,
   "metadata": {},
   "outputs": [
    {
     "name": "stderr",
     "output_type": "stream",
     "text": [
      "c:\\ProgramData\\Anaconda3\\Lib\\site-packages\\sklearn\\model_selection\\_split.py:725: UserWarning: The least populated class in y has only 2 members, which is less than n_splits=5.\n",
      "  warnings.warn(\n"
     ]
    },
    {
     "name": "stdout",
     "output_type": "stream",
     "text": [
      "w= [[-2.63919510e-05 -1.55721071e-05 -2.70387414e-05  3.48827000e-05\n",
      "  -6.24415630e-06 -2.08980810e-06 -2.78018743e-05 -8.00707498e-06\n",
      "   3.97779357e-05 -2.62392045e-05  6.19824998e-06 -7.31013778e-05\n",
      "   6.87378048e-06 -2.95348216e-05 -3.90777416e-05  2.23001964e-05\n",
      "   4.54084711e-05 -6.52699900e-06  5.18414977e-06  1.84194916e-05\n",
      "  -1.52363458e-06 -1.83158987e-05  5.91796589e-05  7.53367264e-05\n",
      "   3.47583616e-05 -4.46697981e-06  6.39568498e-05 -4.17950954e-06\n",
      "  -1.28343937e-05 -2.75637428e-06  7.90335605e-07  7.37668521e-05\n",
      "   1.05933459e-05  8.56834662e-06  9.90027540e-06 -1.11628102e-04\n",
      "  -2.60703493e-05  2.19979552e-05 -1.15947976e-05 -4.12821946e-05\n",
      "   4.32831488e-06 -5.17915901e-05  1.12390233e-05 -4.59398617e-05\n",
      "  -1.21713954e-05 -2.66924148e-05 -4.10725676e-05  4.07016089e-05\n",
      "  -2.03503291e-05 -2.04360962e-05 -3.25080498e-05 -3.67768408e-05\n",
      "   2.60298378e-05 -3.59139729e-05  1.24744014e-04  1.09310718e-05\n",
      "  -4.68538498e-05  3.83168421e-06  1.33337595e-05 -4.20475817e-05\n",
      "  -3.30913973e-05  1.86756478e-05  4.12458349e-05  3.11470804e-05\n",
      "   3.90106081e-05  1.64371969e-05 -2.53938068e-06  1.26634849e-05\n",
      "  -6.04847137e-05  1.80108621e-05 -1.13058693e-04  3.42489839e-05\n",
      "   5.78724732e-07  3.20739261e-05 -1.11305349e-07  2.58919126e-05\n",
      "   6.75748251e-06  2.17494422e-05 -1.70372297e-05 -1.21506548e-05\n",
      "   6.70296741e-06 -3.63971890e-05  2.41499802e-05 -2.73743932e-05\n",
      "   5.73273874e-05 -1.15922226e-06 -2.29564224e-05  9.01334308e-06\n",
      "   6.01358619e-05 -1.12886570e-05  3.99776587e-05  3.65866141e-05\n",
      "   9.45428874e-05  4.80219072e-08  6.42727028e-05  3.47903177e-05\n",
      "   8.08183297e-05 -3.21097633e-05  4.54162173e-05 -4.81002123e-05\n",
      "  -4.48389545e-05  2.66326562e-05 -1.24453870e-05 -3.29076759e-05\n",
      "   1.52281879e-05  1.37224608e-05 -3.22824475e-05 -7.56075562e-05\n",
      "   6.72409460e-07  5.82685435e-05  2.39766007e-05 -6.33764883e-06\n",
      "  -3.22245850e-05  1.99931028e-05  9.04767272e-05  3.44060113e-05\n",
      "   5.33686569e-05  3.05647382e-05  5.18911935e-05 -6.70763239e-06\n",
      "   7.98221942e-05 -1.19449476e-05 -1.40011711e-05  8.38191900e-05\n",
      "  -2.68992286e-05  4.92309365e-05  2.79300558e-06  2.33747611e-05\n",
      "  -3.47697777e-05  3.51477830e-05 -4.00936469e-05 -3.22698472e-05\n",
      "   1.32440332e-05 -4.86136539e-05  1.34043409e-05 -3.88190760e-05\n",
      "   4.02496076e-05  8.05920251e-06 -4.16726731e-05  6.15094270e-05\n",
      "   3.99404219e-06 -3.21415094e-05 -4.82652293e-05  5.34949334e-05\n",
      "   1.25889530e-05 -3.44363556e-06  4.93683495e-05  7.36133617e-05\n",
      "  -4.41330236e-05 -4.78965118e-05  1.46384580e-05  2.97356227e-05\n",
      "  -2.11460710e-05  2.68319713e-05 -3.41059209e-06  1.01470249e-06\n",
      "  -5.31771595e-05 -5.76143164e-05  3.02436251e-06  7.23253204e-05\n",
      "   3.78052128e-05 -8.88288277e-06 -3.07504802e-05  1.96988558e-05\n",
      "   1.49112672e-05  4.15196944e-05  3.05310501e-05 -2.12802588e-05\n",
      "   3.89025903e-07 -3.47281777e-05 -5.45973481e-05  1.15635215e-05\n",
      "   5.10066937e-06 -6.16657200e-06 -1.71587579e-05  8.25215268e-06\n",
      "  -1.62680637e-05  2.77412904e-05 -2.17289234e-05 -2.57911501e-06\n",
      "  -1.01907375e-05  6.08907083e-06 -8.40278028e-06 -6.62869620e-05\n",
      "  -5.68458059e-06  1.58966580e-05  1.94384009e-05 -6.66952422e-05\n",
      "   1.57933096e-05 -1.07181686e-04  3.36292403e-06  1.13057265e-04\n",
      "   4.79187232e-05 -6.33381219e-05 -2.63227807e-05 -4.11403469e-05\n",
      "  -6.25334483e-05  3.17964077e-05  1.41125788e-05 -6.77663838e-05\n",
      "  -1.03585031e-05 -2.29327116e-05  6.44329193e-05 -2.54004518e-05\n",
      "   2.69997841e-05 -2.70619865e-06  1.54792906e-06  9.63814173e-06\n",
      "   6.12299832e-05 -8.79586484e-05  9.26095253e-06 -3.89990250e-06\n",
      "   3.10766940e-05 -3.28088974e-06 -2.85619934e-06 -1.47558573e-05\n",
      "  -3.12660322e-05  2.55973099e-05 -2.59071394e-05 -3.60958754e-05\n",
      "   9.01988870e-05 -9.52222931e-05  5.37711550e-05 -4.44580344e-05\n",
      "   5.57540918e-05 -4.95785132e-06  1.88313608e-05  5.66752991e-06\n",
      "   5.89738984e-06  3.44856091e-05 -3.45030858e-05  9.78761407e-05\n",
      "  -3.56538041e-05 -3.45321448e-05 -8.99492640e-06 -3.95604341e-05\n",
      "   2.52042144e-05 -5.99807518e-05 -3.37071052e-05 -2.37487595e-05\n",
      "   3.13696778e-05  2.94542558e-05  7.82401031e-06  5.64656617e-05\n",
      "   7.12130727e-06  2.91143191e-05 -4.32424367e-05  1.60920602e-06\n",
      "   2.27019845e-05  2.40098649e-05 -1.36581141e-05  2.20081218e-05\n",
      "   9.30129671e-06  1.44701643e-06 -5.13073792e-06 -4.05986159e-05\n",
      "  -6.32327983e-05  6.06269095e-05 -6.53672894e-06 -6.80499589e-06\n",
      "   3.00524182e-05 -2.69492102e-05  3.07707911e-05 -4.19475319e-05\n",
      "   3.27942208e-06 -2.41171154e-05  1.55255710e-05 -2.09569856e-05\n",
      "  -2.92778911e-05 -5.87122948e-05 -2.29941127e-05  4.51503359e-05\n",
      "  -3.53421324e-05 -1.23193621e-05 -3.11216175e-05 -2.83824642e-06\n",
      "   7.28043202e-06  8.40048626e-05  4.21612202e-05  4.78720210e-05\n",
      "   1.71444257e-05 -6.22646265e-06 -7.27664927e-05 -1.11766395e-05\n",
      "  -5.06847424e-06  1.53337879e-05 -4.63991416e-05  2.24383458e-06\n",
      "   6.38621793e-06  6.67288589e-05  2.16978467e-05  3.39624595e-05\n",
      "  -3.02225435e-05 -1.27252206e-05  1.20401746e-05  2.73749313e-05\n",
      "  -3.15548077e-05  5.46444191e-05 -1.34322796e-05  7.03145751e-05\n",
      "   1.52816830e-05 -7.15603425e-06 -1.97695509e-05  2.99701516e-05\n",
      "  -6.52805654e-05  4.53401736e-05 -2.35813449e-05 -2.18140119e-05\n",
      "   3.08222739e-05 -1.35166587e-05  3.57180985e-05 -1.70050037e-05\n",
      "  -9.24671211e-05  3.85816183e-05 -4.97462711e-05 -7.50473707e-06\n",
      "   5.95387034e-05  5.33470631e-05 -1.68147916e-05  7.67963135e-07\n",
      "   1.70260846e-05  8.82067183e-06  1.74900624e-05  3.53790262e-05\n",
      "   8.46080067e-06 -2.82016697e-05  1.87976078e-06  1.39272432e-05\n",
      "   3.05347705e-05 -1.03381725e-05 -4.06049007e-05  1.30523694e-05\n",
      "  -3.03928167e-05 -1.07154495e-04  5.31567445e-05 -5.08102591e-05\n",
      "  -3.39035091e-07 -5.06161431e-05  3.12717736e-05 -4.91662460e-06\n",
      "   2.39336669e-05 -7.14016009e-06 -4.12680314e-05 -6.08382526e-05\n",
      "  -2.69599840e-05 -6.24465193e-05  1.23648297e-05 -5.19679989e-05\n",
      "  -2.07938800e-05 -1.19059451e-05 -1.10257694e-05  2.92232195e-06\n",
      "  -2.18953427e-05  2.42723469e-05  3.66379845e-05 -1.03276036e-05\n",
      "  -9.80635924e-06 -3.14883924e-05 -3.83023747e-06  2.55456748e-05\n",
      "   2.43406589e-05  2.97036911e-05 -9.61795117e-05  4.73623374e-05\n",
      "  -2.63692859e-05 -3.39771269e-05 -3.32606951e-05 -3.28263312e-05\n",
      "  -5.99445108e-07 -1.81143506e-05 -1.24700426e-05 -2.64652453e-05\n",
      "  -1.59394206e-05  2.55333100e-05 -4.03329935e-05  3.96425662e-05\n",
      "  -3.83875984e-05  9.62960741e-05  9.25222376e-06  5.01695038e-06\n",
      "  -4.63489889e-05 -3.20065334e-05 -3.14358923e-05  3.79957124e-05\n",
      "   2.02453021e-05 -7.49101405e-06  1.93483437e-05 -2.53183680e-05\n",
      "  -2.58322484e-05 -5.91116254e-05 -3.40280905e-06  1.60541174e-05\n",
      "   2.45902521e-08  8.10538100e-05  4.06062690e-05  6.66163185e-05\n",
      "  -2.26743352e-05 -2.26242221e-05  3.47025740e-05 -8.07364535e-06\n",
      "   1.92836638e-05 -2.84328182e-06 -5.14094088e-05  1.59273044e-05\n",
      "  -5.06777091e-06 -6.01265669e-06 -3.31216243e-05  3.09155577e-06\n",
      "   4.05443100e-05  1.04721006e-07 -3.38868291e-05  4.37501065e-05\n",
      "  -1.62972254e-05 -2.59503155e-05 -2.77220098e-05  1.01428781e-05\n",
      "   2.33509988e-05  2.77131528e-05  1.01091930e-05 -9.05145193e-06\n",
      "   8.46479297e-06 -3.45624691e-05  1.49950008e-05 -2.73911225e-05\n",
      "   5.36991973e-05 -1.29550265e-04 -2.45145354e-07  4.20147582e-05\n",
      "  -2.60849458e-05 -1.52095117e-05 -5.92821352e-06 -1.44262261e-06\n",
      "  -3.99565765e-06  1.22133116e-05 -5.96890873e-05  3.06136574e-05\n",
      "   2.93538754e-05  3.94932057e-05 -1.37913281e-05  3.67773210e-05\n",
      "   9.76841969e-05  4.40732260e-05  2.01440120e-05  6.16301701e-06\n",
      "  -4.94201727e-05 -3.37782554e-05  3.13568008e-05  2.75584956e-05\n",
      "  -2.67400633e-05  1.05174626e-05 -2.85703576e-05  4.33877503e-05\n",
      "   1.46718461e-05  1.41350210e-05 -4.44439150e-05 -4.10922612e-05\n",
      "   5.63408256e-06 -3.53829853e-05 -5.72755320e-05  2.20074225e-06\n",
      "   2.78809207e-05  1.02826590e-04  4.18898739e-05 -4.26382060e-05\n",
      "   1.73764404e-06 -9.25296736e-06 -5.74339513e-05  7.04799918e-06\n",
      "   2.43515855e-05 -6.43493749e-05  8.26924383e-06  5.20359242e-06\n",
      "  -4.20054136e-05 -9.32280062e-06 -3.76930497e-05  4.69235367e-05\n",
      "   1.57707817e-06  1.31668815e-05 -2.52782928e-05  5.95790779e-05\n",
      "  -4.23377240e-05 -5.40795047e-05  6.54489106e-05  2.58821472e-05\n",
      "   2.96434186e-05  5.46577052e-05  2.50355296e-06  1.35108881e-05\n",
      "   1.59317702e-05  6.98998406e-05 -6.40210937e-05 -2.40001793e-05\n",
      "   4.52212053e-06  6.52533507e-07 -3.96905883e-05 -5.75001524e-05\n",
      "  -2.27744290e-05 -1.20194121e-05  8.16815895e-06  2.14814226e-05\n",
      "   8.65717932e-06  1.63609350e-06  4.09792005e-05 -9.50019542e-05\n",
      "  -1.59318812e-05 -5.69848220e-05 -2.41464307e-05  4.90941807e-05\n",
      "  -1.89437847e-05 -3.29777420e-05  2.70699489e-05 -2.02564067e-05\n",
      "   4.57956438e-05 -2.59131795e-05 -8.85935403e-05 -4.27755011e-06\n",
      "  -3.00816651e-05  2.43356935e-06 -4.30326145e-05 -3.12970909e-05\n",
      "   3.92812096e-06 -6.14058518e-05 -5.93558063e-05  4.02352000e-05\n",
      "  -1.19087751e-05  2.58114776e-05 -1.08507292e-05  3.64948879e-05\n",
      "  -2.72360345e-05  6.10131172e-05 -5.51326170e-07  1.52169579e-05\n",
      "  -3.90910806e-05 -1.19660816e-05  1.25855724e-05  4.03033436e-05\n",
      "  -1.10449120e-04  2.26907300e-06 -3.39276077e-07 -3.56958411e-05\n",
      "   4.31035390e-05  5.44076178e-05  4.40882962e-05 -3.02313503e-05\n",
      "   1.14814157e-05  3.12512791e-05  7.62420584e-06 -1.19618207e-07\n",
      "  -2.94139087e-05  2.72841054e-05  1.95951862e-05 -2.90418477e-05\n",
      "   4.24225479e-05  3.57570175e-06 -2.83343963e-05  6.63773503e-05\n",
      "  -4.36888921e-05 -1.10566653e-05  5.25059327e-05  1.18526878e-06\n",
      "   9.68450685e-06 -3.38646214e-05  2.76923100e-05 -2.97506656e-05\n",
      "  -2.92590754e-05 -2.95914157e-05 -2.33545459e-05  3.64481827e-05\n",
      "   9.54431100e-06  2.44942063e-05  2.05584227e-06  3.25177192e-05\n",
      "   3.14548554e-05  5.60025762e-05 -2.38652991e-05 -1.75012582e-05\n",
      "   2.75496820e-05  2.24762028e-05 -1.54552482e-05 -1.51608176e-05\n",
      "   3.61100381e-05  8.84653166e-05  3.67217150e-06 -5.69621893e-06\n",
      "   8.21331981e-06  3.42544158e-05  1.02614429e-04  2.21281614e-05\n",
      "  -1.97608183e-05  3.11997412e-05 -3.40104152e-05  1.05538396e-04\n",
      "  -2.93504622e-05 -3.71937593e-05  6.61055022e-05  6.50609909e-06\n",
      "  -4.18409490e-06  6.71205628e-06  3.75812696e-05  2.82838821e-05\n",
      "  -1.59594199e-04 -4.63462146e-05 -8.49230130e-05 -2.60321975e-05\n",
      "  -1.79143568e-05 -3.42660901e-05  4.41216431e-05  8.59605428e-06\n",
      "   2.75650663e-05  1.24875616e-05  3.31107165e-05 -3.74166272e-05\n",
      "  -5.94173227e-05  4.20201517e-05 -4.61723402e-05  7.90100045e-06\n",
      "   2.44603977e-05 -2.23396882e-05  5.50107169e-05 -6.25945339e-05\n",
      "  -3.03722351e-05  1.60701334e-06  1.66748046e-05 -3.06254161e-05\n",
      "   3.58525347e-05 -3.52110625e-05 -5.64647283e-05 -3.64006083e-05\n",
      "  -6.34333932e-06  5.37141293e-05 -1.45733505e-05  3.47952096e-05\n",
      "   1.09542815e-05 -4.18883705e-05  5.64872932e-05 -1.29955522e-05\n",
      "   6.36015977e-05 -1.38560614e-05 -1.87446922e-05  5.25655432e-06\n",
      "  -9.00333449e-06  8.99950487e-06  6.56249410e-05 -3.68582273e-05\n",
      "   6.64606186e-06  2.88822593e-05 -1.35242063e-07  3.73891887e-05\n",
      "  -2.23957366e-05  3.31880727e-05  5.50378311e-05 -1.68942713e-05\n",
      "  -7.27153886e-05  2.13380183e-05  2.58532064e-05  1.02262252e-05\n",
      "   1.00376524e-05  4.33971216e-05 -3.49040959e-05 -5.34950311e-05\n",
      "  -4.52278723e-05  2.21351551e-05 -7.02280302e-05 -2.56449769e-05\n",
      "   7.58864031e-06  1.86133881e-05 -2.07370821e-05  3.11144853e-05\n",
      "  -1.55618819e-05 -2.62490822e-05  6.63836476e-05 -1.19274174e-05\n",
      "  -1.69720890e-05 -6.47918246e-06 -4.69297926e-05 -2.43760528e-05\n",
      "  -1.23815402e-06  2.54867148e-05 -8.52612137e-06 -6.48767959e-05\n",
      "  -7.91146329e-05  1.18914035e-05 -1.03414890e-05  1.87776988e-05\n",
      "  -1.74150897e-05  4.48553077e-05  2.91634450e-05 -1.03661508e-06\n",
      "   8.89346189e-05  4.33737813e-05 -2.22416651e-05  3.82914797e-05\n",
      "  -6.99502765e-06  8.23774587e-05  6.03543259e-05  3.73969162e-06\n",
      "   5.03274871e-05 -7.54575114e-06  4.79038237e-05  1.55589587e-05\n",
      "  -6.12747351e-06 -1.02598488e-05  1.97938159e-05  6.25359066e-05\n",
      "  -2.79010688e-06  2.26668794e-05  2.08939009e-05 -2.68196480e-06\n",
      "  -4.64224855e-05 -2.71892980e-05 -1.60868113e-05 -4.94495245e-05\n",
      "  -7.86168311e-05 -2.54125647e-05  9.86902092e-06  5.20708091e-05\n",
      "   2.95517458e-05  3.70685007e-05 -9.03416034e-06  3.09708671e-05\n",
      "  -5.70556100e-05 -3.22416686e-06  7.66883520e-06  4.29349517e-05\n",
      "  -1.90240358e-05 -3.53065686e-05  2.63417329e-05 -4.47891805e-05\n",
      "   1.20483196e-07  1.94572822e-06  3.57329561e-05 -4.39440132e-05\n",
      "   6.97230608e-05 -5.21108137e-05 -2.96635640e-05  4.29838978e-05\n",
      "   1.46379326e-05  2.54970509e-05  3.86814898e-05 -2.28775879e-06\n",
      "  -3.05858439e-05 -1.64976320e-05 -3.79439169e-05  1.31076693e-05\n",
      "  -1.71402795e-05 -1.56857748e-05  2.73066083e-05 -5.21447776e-05\n",
      "  -5.28830722e-05 -1.02915310e-05  1.39323723e-05 -5.34376669e-05\n",
      "  -1.04800960e-05 -4.80471122e-05  4.32958935e-05 -2.26254826e-05\n",
      "   3.04198653e-05 -2.01738085e-05  3.41639514e-06  2.20907434e-05\n",
      "  -4.60483727e-05 -1.48069910e-05  5.80207398e-05  3.30667019e-05\n",
      "   1.13184849e-05  2.15781126e-05  1.49658685e-05 -4.57883277e-05]]\n",
      "b= [-6.17514031]\n"
     ]
    }
   ],
   "source": [
    "# learn logistic regression classifier using CV\n",
    "#  Cs is an array of possible C values\n",
    "#  cv is the number of folds\n",
    "#  n_jobs=-1 means run in parallel with all cores\n",
    "logreg = linear_model.LogisticRegressionCV(Cs=np.logspace(-4,4,20), cv=5, n_jobs=-1)\n",
    "logreg.fit(embeddings, train_labels)\n",
    "\n",
    "print(\"w=\", logreg.coef_)\n",
    "print(\"b=\", logreg.intercept_)"
   ]
  },
  {
   "cell_type": "code",
   "execution_count": 14,
   "metadata": {},
   "outputs": [
    {
     "data": {
      "application/vnd.jupyter.widget-view+json": {
       "model_id": "9ba148d7275646e4a27f479376cce410",
       "version_major": 2,
       "version_minor": 0
      },
      "text/plain": [
       "Batches:   0%|          | 0/13 [00:00<?, ?it/s]"
      ]
     },
     "metadata": {},
     "output_type": "display_data"
    }
   ],
   "source": [
    "embeddings = model.encode(test_data, show_progress_bar=True)"
   ]
  },
  {
   "cell_type": "code",
   "execution_count": 15,
   "metadata": {},
   "outputs": [
    {
     "name": "stdout",
     "output_type": "stream",
     "text": [
      "test accuracy= 0.9975845410628019\n"
     ]
    }
   ],
   "source": [
    "# predict from the model\n",
    "predY = logreg.predict(embeddings)\n",
    "\n",
    "# calculate accuracy\n",
    "acc = metrics.accuracy_score(test_labels, predY)\n",
    "print(\"test accuracy=\", acc)"
   ]
  },
  {
   "cell_type": "markdown",
   "metadata": {},
   "source": [
    "在测试数据上进行分类"
   ]
  },
  {
   "cell_type": "code",
   "execution_count": 16,
   "metadata": {},
   "outputs": [],
   "source": [
    "# 读取测试集的CSV\n",
    "df_test = pd.read_csv('llm-detect-ai-generated-text/test_essays.csv')"
   ]
  },
  {
   "cell_type": "code",
   "execution_count": 17,
   "metadata": {},
   "outputs": [
    {
     "data": {
      "text/html": [
       "<div>\n",
       "<style scoped>\n",
       "    .dataframe tbody tr th:only-of-type {\n",
       "        vertical-align: middle;\n",
       "    }\n",
       "\n",
       "    .dataframe tbody tr th {\n",
       "        vertical-align: top;\n",
       "    }\n",
       "\n",
       "    .dataframe thead th {\n",
       "        text-align: right;\n",
       "    }\n",
       "</style>\n",
       "<table border=\"1\" class=\"dataframe\">\n",
       "  <thead>\n",
       "    <tr style=\"text-align: right;\">\n",
       "      <th></th>\n",
       "      <th>id</th>\n",
       "      <th>prompt_id</th>\n",
       "      <th>text</th>\n",
       "    </tr>\n",
       "  </thead>\n",
       "  <tbody>\n",
       "    <tr>\n",
       "      <th>0</th>\n",
       "      <td>0000aaaa</td>\n",
       "      <td>2</td>\n",
       "      <td>Aaa bbb ccc.</td>\n",
       "    </tr>\n",
       "    <tr>\n",
       "      <th>1</th>\n",
       "      <td>1111bbbb</td>\n",
       "      <td>3</td>\n",
       "      <td>Bbb ccc ddd.</td>\n",
       "    </tr>\n",
       "    <tr>\n",
       "      <th>2</th>\n",
       "      <td>2222cccc</td>\n",
       "      <td>4</td>\n",
       "      <td>CCC ddd eee.</td>\n",
       "    </tr>\n",
       "  </tbody>\n",
       "</table>\n",
       "</div>"
      ],
      "text/plain": [
       "         id  prompt_id          text\n",
       "0  0000aaaa          2  Aaa bbb ccc.\n",
       "1  1111bbbb          3  Bbb ccc ddd.\n",
       "2  2222cccc          4  CCC ddd eee."
      ]
     },
     "execution_count": 17,
     "metadata": {},
     "output_type": "execute_result"
    }
   ],
   "source": [
    "df_test.head(3)"
   ]
  },
  {
   "cell_type": "code",
   "execution_count": 18,
   "metadata": {},
   "outputs": [],
   "source": [
    "test_txtdata = []\n",
    "test_ID = []\n",
    "for row in df_test.itertuples():\n",
    "    test_txtdata.append(row[3])\n",
    "    test_ID.append(row[1])"
   ]
  },
  {
   "cell_type": "code",
   "execution_count": 19,
   "metadata": {},
   "outputs": [
    {
     "data": {
      "application/vnd.jupyter.widget-view+json": {
       "model_id": "1ab142a3dc604f299b52dd8f16a3543a",
       "version_major": 2,
       "version_minor": 0
      },
      "text/plain": [
       "Batches:   0%|          | 0/1 [00:00<?, ?it/s]"
      ]
     },
     "metadata": {},
     "output_type": "display_data"
    }
   ],
   "source": [
    "test_embeddings = model.encode(test_txtdata, show_progress_bar=True)"
   ]
  },
  {
   "cell_type": "code",
   "execution_count": 20,
   "metadata": {},
   "outputs": [
    {
     "name": "stdout",
     "output_type": "stream",
     "text": [
      "[[-0.31552577  0.20077023  0.02336733 ... -0.85193616 -0.44328833\n",
      "   0.78843325]\n",
      " [-0.16133729  0.02380942 -0.5558819  ... -1.6235547   0.17173813\n",
      "   1.121677  ]\n",
      " [-1.0766127  -0.35463503 -0.3630868  ... -0.4499783   0.11158902\n",
      "   1.7125299 ]]\n"
     ]
    }
   ],
   "source": [
    "# 使用训练好的模型进行分类预测\n",
    "print(test_embeddings)"
   ]
  },
  {
   "cell_type": "code",
   "execution_count": 21,
   "metadata": {},
   "outputs": [],
   "source": [
    "# 使用训练好的模型进行分类预测\n",
    "y_pred_prob = logreg.predict_proba(test_embeddings)\n",
    "\n",
    "\n",
    "# 获取第一类别的概率作为预测输出\n",
    "y_pred = y_pred_prob[:, 1]"
   ]
  },
  {
   "cell_type": "code",
   "execution_count": 22,
   "metadata": {},
   "outputs": [
    {
     "name": "stdout",
     "output_type": "stream",
     "text": [
      "[[0.99792445 0.00207555]\n",
      " [0.99792017 0.00207983]\n",
      " [0.99792109 0.00207891]]\n"
     ]
    }
   ],
   "source": [
    "print(y_pred_prob)"
   ]
  },
  {
   "cell_type": "code",
   "execution_count": 23,
   "metadata": {},
   "outputs": [
    {
     "name": "stdout",
     "output_type": "stream",
     "text": [
      "[0.00207555 0.00207983 0.00207891]\n"
     ]
    }
   ],
   "source": [
    "print(y_pred)"
   ]
  },
  {
   "cell_type": "code",
   "execution_count": 26,
   "metadata": {},
   "outputs": [],
   "source": [
    "import csv\n",
    "tmp = [['id', 'generated']]\n",
    "    \n",
    "    # add ID numbers for each Y\n",
    "for i in range(len(test_ID)):\n",
    "    tmp2 = [test_ID[i],y_pred[i]]\n",
    "    tmp.append(tmp2)\n",
    "        \n",
    "    # write CSV file\n",
    "with open(\"result.csv\", 'w') as f:\n",
    "    writer = csv.writer(f)\n",
    "    writer.writerows(tmp)"
   ]
  }
 ],
 "metadata": {
  "kernelspec": {
   "display_name": "base",
   "language": "python",
   "name": "python3"
  },
  "language_info": {
   "codemirror_mode": {
    "name": "ipython",
    "version": 3
   },
   "file_extension": ".py",
   "mimetype": "text/x-python",
   "name": "python",
   "nbconvert_exporter": "python",
   "pygments_lexer": "ipython3",
   "version": "3.11.4"
  }
 },
 "nbformat": 4,
 "nbformat_minor": 2
}
